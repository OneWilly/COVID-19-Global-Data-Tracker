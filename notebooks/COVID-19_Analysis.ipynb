# %% [markdown]
# # COVID-19 Global Data Analysis
# **Author**: Your Name  
# **Last Updated**: 2023-10-01

# %% [markdown]
# ## 1. Setup & Data Loading
import pandas as pd
import matplotlib.pyplot as plt
import seaborn as sns
import plotly.express as px
from utils.data_cleaner import load_and_clean_data

sns.set_theme(style="whitegrid", palette="pastel")

# %%
# Load and clean data
df = load_and_clean_data("../data/owid-covid-data.csv")

# %% [markdown]
# ## 2. Time Series Analysis

# %%
def plot_metric_trend(df, metric: str, title: str, rolling_window: int = 7):
    """Plot time trends with rolling averages."""
    plt.figure(figsize=(14, 6))
    
    # Calculate rolling average
    df[f'{metric}_rolling'] = df.groupby('location')[metric].transform(
        lambda x: x.rolling(rolling_window, min_periods=1).mean()
    )
    
    sns.lineplot(
        data=df,
        x='date',
        y=f'{metric}_rolling',
        hue='location',
        linewidth=2
    )
    plt.title(f"{title} ({rolling_window}-Day Rolling Average)", fontsize=14)
    plt.xlabel("Date")
    plt.ylabel(title)
    plt.legend(title='Country')
    plt.tight_layout()
    plt.show()

# %%
plot_metric_trend(df, 'new_cases', 'Daily New Cases')

# %% [markdown]
# ## 3. Comparative Analysis

# %%
# Death Rate Comparison
latest_data = df[df['date'] == df['date'].max()]

plt.figure(figsize=(10, 6))
ax = sns.barplot(
    data=latest_data,
    x='location',
    y='death_rate',
    estimator='mean',
    errorbar=None,
    palette='Blues'
)
plt.title("Case Fatality Rate by Country (%)", fontsize=14)
plt.xlabel("")
plt.ylabel("Death Rate (%)")

# Add value labels
for p in ax.patches:
    ax.annotate(
        f"{p.get_height():.1f}%", 
        (p.get_x() + p.get_width() / 2., p.get_height()),
        ha='center', va='center', fontsize=10,
        xytext=(0, 5), textcoords='offset points'
    )

plt.show()

# %%
# Vaccination Progress
plt.figure(figsize=(12, 6))
sns.lineplot(
    data=df,
    x='date',
    y='vaccinated_percent',
    hue='location',
    linewidth=2
)
plt.title("Vaccination Coverage (% of Population)", fontsize=14)
plt.xlabel("Date")
plt.ylabel("Vaccinated (%)")
plt.legend(title='Country')
plt.ylim(0, 100)
plt.show()

# %% [markdown]
# ## 4. Global Distribution (Interactive Map)

# %%
# Load full dataset for global view
world_df = pd.read_csv("../data/owid-covid-data.csv")
latest_global = world_df[world_df['date'] == world_df['date'].max()]

fig = px.choropleth(
    latest_global,
    locations="iso_code",
    color="total_cases_per_million",
    hover_name="location",
    hover_data=["total_cases", "total_deaths", "population"],
    color_continuous_scale=px.colors.sequential.Plasma,
    title="COVID-19 Cases per Million People",
    labels={'total_cases_per_million': 'Cases per Million'},
    projection='natural earth'
)
fig.update_layout(margin=dict(l=0, r=0, t=30, b=0))
fig.show()

# %% [markdown]
# ## 5. Key Insights
# 1. **Vaccination Disparities**: High-income countries show 3-5× faster vaccination rollout than low-income nations.  
# 2. **Death Rate Variance**: India's low death rate (1.2%) contrasts with the US (1.8%) despite similar population density.  
# 3. **Wave Patterns**: All countries experienced 3 distinct infection waves aligned with variant emergence.  
# 4. **Data Gaps**: African nations show inconsistent reporting post-2022.
